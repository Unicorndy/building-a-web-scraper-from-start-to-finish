{
  "nbformat": 4,
  "nbformat_minor": 0,
  "metadata": {
    "colab": {
      "name": "web_scraper_fake_twitter.ipynb",
      "provenance": [],
      "include_colab_link": true
    },
    "kernelspec": {
      "name": "python3",
      "display_name": "Python 3"
    }
  },
  "cells": [
    {
      "cell_type": "markdown",
      "metadata": {
        "id": "view-in-github",
        "colab_type": "text"
      },
      "source": [
        "<a href=\"https://colab.research.google.com/github/Unicorndy/building-a-web-scraper-from-start-to-finish/blob/master/web_scraper_fake_twitter.ipynb\" target=\"_parent\"><img src=\"https://colab.research.google.com/assets/colab-badge.svg\" alt=\"Open In Colab\"/></a>"
      ]
    },
    {
      "cell_type": "code",
      "metadata": {
        "id": "0rmw66KwGkkc",
        "colab_type": "code",
        "colab": {}
      },
      "source": [
        "from bs4 import BeautifulSoup\n",
        "import requests\n",
        "import json\n",
        "\n",
        "url = 'http://ethans_fake_twitter_site.surge.sh/'\n",
        "response = requests.get(url, timeout=5)\n",
        "content = BeautifulSoup(response.content, \"html.parser\")\n",
        "\n",
        "tweetArr = []\n",
        "for tweet in content.findAll('div', attrs={\"class\": \n",
        "\"tweetcontainer\"}):\n",
        "    tweetObject = { \n",
        "        \"author\": tweet.find('h2', attrs={\"class\": \"author\"}).text, \n",
        "        \"date\": tweet.find('h5', attrs={\"class\": \"dateTime\"}).text, \n",
        "        \"tweet\": tweet.find('p', attrs={\"class\": \"content\"}).text, \n",
        "        \"likes\": tweet.find('p', attrs={\"class\": \"likes\"}).text, \n",
        "        \"shares\": tweet.find('p', attrs={\"class\": \"shares\"}).text \n",
        "    } \n",
        "    tweetArr.append(tweetObject)\n",
        "with open('twitterData.json', 'w') as outfile: \n",
        "    json.dump(tweetArr, outfile)"
      ],
      "execution_count": 0,
      "outputs": []
    },
    {
      "cell_type": "code",
      "metadata": {
        "id": "B0M0lkz7QbuG",
        "colab_type": "code",
        "colab": {
          "base_uri": "https://localhost:8080/",
          "height": 195
        },
        "outputId": "878dc3d4-945a-45bc-c9b4-44d81000ae64"
      },
      "source": [
        "#parsedata\n",
        "import json\n",
        "\n",
        "with open('twitterData.json') as json_data:\n",
        "    jsonData = json.load(json_data)\n",
        "\n",
        "itemNo=0\n",
        "#inspect first 10 dates \n",
        "for i in jsonData:\n",
        "    display (i['date'])\n",
        "    itemNo+=1\n",
        "    if itemNo > 9:\n",
        "      break"
      ],
      "execution_count": 25,
      "outputs": [
        {
          "output_type": "stream",
          "text": [
            "17/01/2017 13:47\n",
            "17/01/2017 12:55\n",
            "16/01/2017 14:10\n",
            "13/01/2017 23:23\n",
            "13/01/2017 17:40\n",
            "13/01/2017 14:01\n",
            "13/01/2017 13:04\n",
            "12/01/2017 19:05\n",
            "12/01/2017 14:06\n",
            "12/01/2017 13:37\n"
          ],
          "name": "stdout"
        }
      ]
    },
    {
      "cell_type": "code",
      "metadata": {
        "id": "ZVHBZEipRLOm",
        "colab_type": "code",
        "colab": {
          "base_uri": "https://localhost:8080/",
          "height": 906
        },
        "outputId": "90508419-ffe5-4485-d00a-63da34ab8778"
      },
      "source": [
        "\n",
        "itemNo=0\n",
        "#inspect first 10 dates \n",
        "for i in jsonData:\n",
        "    if \"obama\" in i['tweet'].lower():\n",
        "        display (i)\n",
        "        itemNo+=1\n",
        "    if itemNo > 9:\n",
        "      break"
      ],
      "execution_count": 33,
      "outputs": [
        {
          "output_type": "display_data",
          "data": {
            "text/plain": [
              "{'author': 'jimmyfallon',\n",
              " 'date': '11/01/2017 13:47',\n",
              " 'likes': 'Likes  5321',\n",
              " 'shares': 'Shares  711',\n",
              " 'tweet': \"Great show tonight: @FLOTUS Michelle Obama is here!! Plus talk & music with the legendary Stevie Wonder! Don't miss!! #FallonTonight\"}"
            ]
          },
          "metadata": {
            "tags": []
          }
        },
        {
          "output_type": "display_data",
          "data": {
            "text/plain": [
              "{'author': 'jimmyfallon',\n",
              " 'date': '10/06/2016 04:25',\n",
              " 'likes': 'Likes  1612',\n",
              " 'shares': 'Shares  296',\n",
              " 'tweet': \"He's good. Oh he's good!! #POTUSonFallon #OBAMADONNA #NBC now!\"}"
            ]
          },
          "metadata": {
            "tags": []
          }
        },
        {
          "output_type": "display_data",
          "data": {
            "text/plain": [
              "{'author': 'jimmyfallon',\n",
              " 'date': '10/06/2016 04:07',\n",
              " 'likes': 'Likes  1072',\n",
              " 'shares': 'Shares  133',\n",
              " 'tweet': 'Thank you!! #POTUSonFallon #NBC #OBAMADONNA  https://t.co/8DUCYAZS32'}"
            ]
          },
          "metadata": {
            "tags": []
          }
        },
        {
          "output_type": "display_data",
          "data": {
            "text/plain": [
              "{'author': 'jimmyfallon',\n",
              " 'date': '10/06/2016 01:54',\n",
              " 'likes': 'Likes  326',\n",
              " 'shares': 'Shares  100',\n",
              " 'tweet': '@ClayRivers I like that hashtag too!! #OBAMADONNA'}"
            ]
          },
          "metadata": {
            "tags": []
          }
        },
        {
          "output_type": "display_data",
          "data": {
            "text/plain": [
              "{'author': 'jimmyfallon',\n",
              " 'date': '09/06/2016 13:19',\n",
              " 'likes': 'Likes  1715',\n",
              " 'shares': 'Shares  336',\n",
              " 'tweet': \"I wrote a few thank you notes for tonight's show. President Barack Obama and Madonna on the… https://t.co/dlKgVoXshc\"}"
            ]
          },
          "metadata": {
            "tags": []
          }
        },
        {
          "output_type": "display_data",
          "data": {
            "text/plain": [
              "{'author': 'jimmyfallon',\n",
              " 'date': '05/05/2016 12:01',\n",
              " 'likes': 'Likes  1887',\n",
              " 'shares': 'Shares  572',\n",
              " 'tweet': 'Donald Trump calls President Obama after the Indiana primary https://t.co/eGWHs6oGuN #DonaldWithTheGoodHair'}"
            ]
          },
          "metadata": {
            "tags": []
          }
        },
        {
          "output_type": "display_data",
          "data": {
            "text/plain": [
              "{'author': 'jimmyfallon',\n",
              " 'date': '04/05/2016 22:31',\n",
              " 'likes': 'Likes  8803',\n",
              " 'shares': 'Shares  1624',\n",
              " 'tweet': 'Donald Trump just called President Obama, and we got footage of it. Tune in tonight! #DonaldWithTheGoodHair https://t.co/W0X4gZYCpA'}"
            ]
          },
          "metadata": {
            "tags": []
          }
        },
        {
          "output_type": "display_data",
          "data": {
            "text/plain": [
              "{'author': 'jimmyfallon',\n",
              " 'date': '04/08/2015 14:02',\n",
              " 'likes': 'Likes  1800',\n",
              " 'shares': 'Shares  681',\n",
              " 'tweet': 'President Obama calls Donald Trump with advice before his first GOP debate https://t.co/4HmrQEcy7k #FallonTonight'}"
            ]
          },
          "metadata": {
            "tags": []
          }
        },
        {
          "output_type": "display_data",
          "data": {
            "text/plain": [
              "{'author': 'jimmyfallon',\n",
              " 'date': '02/04/2015 14:55',\n",
              " 'likes': 'Likes  1732',\n",
              " 'shares': 'Shares  461',\n",
              " 'tweet': 'Tonight: First Lady Michelle Obama (@FLOTUS) is here! Plus @Matt_Morrison, @SmashingPumpkin & your #BestPrankEver tweets! #FallonTonight'}"
            ]
          },
          "metadata": {
            "tags": []
          }
        },
        {
          "output_type": "display_data",
          "data": {
            "text/plain": [
              "{'author': 'jimmyfallon',\n",
              " 'date': '12/02/2015 01:01',\n",
              " 'likes': 'Likes  3491',\n",
              " 'shares': 'Shares  827',\n",
              " 'tweet': 'Obama chose Joe Biden as his VP because of his energy and enthusiasm. And those are the same reasons he picked his dog, Bo. #fallonmono'}"
            ]
          },
          "metadata": {
            "tags": []
          }
        }
      ]
    }
  ]
}